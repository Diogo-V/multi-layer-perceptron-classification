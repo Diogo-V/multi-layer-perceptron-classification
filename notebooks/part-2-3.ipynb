{
 "cells": [
  {
   "cell_type": "code",
   "execution_count": 7,
   "metadata": {
    "collapsed": true
   },
   "outputs": [],
   "source": [
    "# Import definition\n",
    "from scipy.io import arff\n",
    "import numpy as np\n",
    "import pandas as pd\n",
    "from sklearn.neural_network import MLPClassifier\n",
    "from sklearn.preprocessing import LabelBinarizer\n",
    "from sklearn.model_selection import StratifiedKFold\n",
    "from sklearn.metrics import confusion_matrix\n",
    "import matplotlib.pyplot as plt\n",
    "from sklearn.metrics import ConfusionMatrixDisplay"
   ]
  },
  {
   "cell_type": "code",
   "execution_count": 8,
   "outputs": [],
   "source": [
    "# ------------------ PREPROCESSING AND DATA FILTERING -------------------- #\n",
    "\n",
    "# Loading dataset into working desk\n",
    "data = arff.loadarff('../data/breast.w.arff')\n",
    "df = pd.DataFrame(data[0])\n",
    "\n",
    "# Removes NaN values from dataset by deleting rows\n",
    "df.dropna(axis=0, how=\"any\", inplace=True)\n",
    "\n",
    "# Gets X (data matrix) and y (target values column matrix)\n",
    "X = df.drop(\"Class\", axis=1).to_numpy()\n",
    "y = df[\"Class\"].to_numpy()\n",
    "\n",
    "# Performalignantms some preprocessing by turning labels into binaries (benign is 1)\n",
    "# We are doing a \"double conversion\" to convert everything to Binary type\n",
    "for count, value in enumerate(y):\n",
    "    if value == b\"malignant\":\n",
    "        y[count] = \"yes\"\n",
    "    else:\n",
    "        y[count] = \"no\"\n",
    "\n",
    "lb = LabelBinarizer()\n",
    "y = lb.fit_transform(y)\n"
   ],
   "metadata": {
    "collapsed": false,
    "pycharm": {
     "name": "#%%\n"
    }
   }
  },
  {
   "cell_type": "code",
   "execution_count": 9,
   "outputs": [
    {
     "name": "stdout",
     "output_type": "stream",
     "text": [
      "[[433  11]\n",
      " [ 10 229]]\n",
      "Confunsion Matrix without early stopping\n",
      "Accuracy 0.9692532942898975\n",
      "[[390  54]\n",
      " [  5 234]]\n",
      "Confunsion Matrix with early stopping\n",
      "Accuracy 0.9136163982430454\n"
     ]
    },
    {
     "data": {
      "text/plain": "<Figure size 432x288 with 2 Axes>",
      "image/png": "[encoded data removed]"
     },
     "metadata": {
      "needs_background": "light"
     },
     "output_type": "display_data"
    },
    {
     "data": {
      "text/plain": "<Figure size 432x288 with 2 Axes>",
      "image/png": "[encoded data removed]"
     },
     "metadata": {
      "needs_background": "light"
     },
     "output_type": "display_data"
    }
   ],
   "source": [
    "# Holds values for confusion matrix without early stopping\n",
    "cm_1 = {\n",
    "    \"tp\" : 0,\n",
    "    \"fp\" : 0,\n",
    "    \"tn\" : 0,\n",
    "    \"fn\" : 0\n",
    "}\n",
    "\n",
    "# Holds values for confusion matrix with early stopping\n",
    "cm_2 = {\n",
    "    \"tp\" : 0,\n",
    "    \"fp\" : 0,\n",
    "    \"tn\" : 0,\n",
    "    \"fn\" : 0\n",
    "}\n",
    "\n",
    "\n",
    "# ------------------ QUESTION 2 ------------------------ #\n",
    "\n",
    "# TODO: falar com o professor sobre o alpha (l2 regularization)\n",
    "\n",
    "# Creates a 5 fold cross validator\n",
    "skf = StratifiedKFold(n_splits=5, shuffle=True, random_state=0)\n",
    "\n",
    "# For each train/test set, we use a MLP classifier without early stopping\n",
    "for train_index, test_index in skf.split(X, y):\n",
    "    # Uses indexes to fetch which values are going to be used to train and test\n",
    "    X_train, X_test = X[train_index], X[test_index]\n",
    "    y_train, y_test = y[train_index], y[test_index]\n",
    "\n",
    "    # Scaling data (assuming standard scaling)\n",
    "    #scaler = StandardScaler().fit(X_train)\n",
    "    #X_train = scaler.transform(X_train)\n",
    "    #X_test = scaler.transform(X_test)\n",
    "\n",
    "    #MLP classifier without early stopping (L2)\n",
    "    mlp = MLPClassifier(hidden_layer_sizes=(3, 2), early_stopping= False, alpha= 3, activation='relu', learning_rate='constant', learning_rate_init=0.001, max_iter=2000, random_state=0)\n",
    "\n",
    "    #Trains mlp classifier\n",
    "    mlp.fit(X_train, y_train.ravel())\n",
    "\n",
    "    #Predicts new y and saves new valuesmalignant\n",
    "    y_predicted = mlp.predict(X_test)\n",
    "    tn, fp, fn, tp = confusion_matrix(y_test, y_predicted).ravel()\n",
    "    cm_1[\"tn\"] += tn\n",
    "    cm_1[\"fp\"] += fp\n",
    "    cm_1[\"fn\"] += fn\n",
    "    cm_1[\"tp\"] += tp\n",
    "\n",
    "# For each tindicator matrixrain/test set, we use a MLP classifier with early stopping\n",
    "for train_index, test_index in skf.split(X, y):\n",
    "\n",
    "    # Uses indexes to fetch which values are going to be used to train and test\n",
    "    X_train, X_test = X[train_index], X[test_index]\n",
    "    y_train, y_test = y[train_index], y[test_index]\n",
    "\n",
    "    # Scaling data (assuming standard scaling)\n",
    "    #scaler = StandardScaler().fit(X_train)\n",
    "    #X_train = scaler.transform(X_train)\n",
    "    #X_test = scaler.transform(X_test)\n",
    "\n",
    "    #MLP classifier without early stopping (L2)\n",
    "    mlp = MLPClassifier(hidden_layer_sizes=(3, 2), early_stopping=True, alpha= 3, activation='relu', learning_rate='constant', learning_rate_init=0.001, max_iter=2000, random_state=0)\n",
    "\n",
    "    #Trains mlp classifier\n",
    "    mlp.fit(X_train, y_train.ravel())\n",
    "\n",
    "    #Predicts new y and saves new values\n",
    "    y_predicted = mlp.predict(X_test)\n",
    "    tn, fp, fn, tp = confusion_matrix(y_test, y_predicted).ravel()\n",
    "    cm_2[\"tn\"] += tn\n",
    "    cm_2[\"fp\"] += fp\n",
    "    cm_2[\"fn\"] += fn\n",
    "    cm_2[\"tp\"] += tp\n",
    "\n",
    "cm_1_final = np.array([[cm_1[\"tn\"], cm_1[\"fp\"]], [cm_1[\"fn\"], cm_1[\"tp\"]]])\n",
    "print(cm_1_final)\n",
    "\n",
    "disp1 = ConfusionMatrixDisplay(confusion_matrix=cm_1_final)\n",
    "print('Confunsion Matrix without early stopping')\n",
    "print('Accuracy', ((cm_1[\"tn\"] + cm_1[\"tp\"])/(cm_1[\"tn\"] + cm_1[\"tp\"] + cm_1[\"fp\"] + cm_1[\"fn\"])))\n",
    "disp1.plot()\n",
    "\n",
    "cm_2_final = np.array([[cm_2[\"tn\"], cm_2[\"fp\"]], [cm_2[\"fn\"], cm_2[\"tp\"]]])\n",
    "print(cm_2_final)\n",
    "\n",
    "disp2 = ConfusionMatrixDisplay(confusion_matrix=cm_2_final)\n",
    "print('Confunsion Matrix with early stopping')\n",
    "print('Accuracy', ((cm_2[\"tn\"] + cm_2[\"tp\"])/(cm_2[\"tn\"] + cm_2[\"tp\"] + cm_2[\"fp\"] + cm_2[\"fn\"])))\n",
    "disp2.plot()\n",
    "\n",
    "plt.show()\n",
    "\n",
    "\n",
    "\n"
   ],
   "metadata": {
    "collapsed": false,
    "pycharm": {
     "name": "#%%\n"
    }
   }
  }
 ],
 "metadata": {
  "kernelspec": {
   "display_name": "Python 3",
   "language": "python",
   "name": "python3"
  },
  "language_info": {
   "codemirror_mode": {
    "name": "ipython",
    "version": 2
   },
   "file_extension": ".py",
   "mimetype": "text/x-python",
   "name": "python",
   "nbconvert_exporter": "python",
   "pygments_lexer": "ipython2",
   "version": "2.7.6"
  }
 },
 "nbformat": 4,
 "nbformat_minor": 0
}