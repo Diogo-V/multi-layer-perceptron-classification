{
 "cells": [
  {
   "cell_type": "code",
   "execution_count": 110,
   "metadata": {
    "collapsed": true
   },
   "outputs": [],
   "source": [
    "# Import definition\n",
    "from scipy.io import arff\n",
    "import numpy as np\n",
    "import pandas as pd\n",
    "from sklearn.neural_network import MLPClassifier\n",
    "from sklearn.preprocessing import LabelBinarizer\n",
    "from sklearn.model_selection import StratifiedKFold\n",
    "from sklearn.preprocessing import StandardScaler\n",
    "from sklearn.metrics import confusion_matrix"
   ]
  },
  {
   "cell_type": "code",
   "execution_count": 111,
   "outputs": [],
   "source": [
    "# ------------------ PREPROCESSING AND DATA FILTERING -------------------- #\n",
    "\n",
    "# Loading dataset into working desk\n",
    "data = arff.loadarff('../data/breast.w.arff')\n",
    "df = pd.DataFrame(data[0])\n",
    "\n",
    "# Removes NaN values from dataset by deleting rows\n",
    "df.dropna(axis=0, how=\"any\", inplace=True)\n",
    "\n",
    "# Gets X (data matrix) and y (target values column matrix)\n",
    "X = df.drop(\"Class\", axis=1).to_numpy()\n",
    "y = df[\"Class\"].to_numpy()\n",
    "\n",
    "# Performs some preprocessing by turning labels into binaries (benign is 1)\n",
    "# We are doing a \"double conversion\" to convert everything to Binary type\n",
    "for count, value in enumerate(y):\n",
    "    if value == b\"benign\":\n",
    "        y[count] = \"yes\"\n",
    "    else:\n",
    "        y[count] = \"no\"\n",
    "lb = LabelBinarizer()\n",
    "y = lb.fit_transform(y)\n"
   ],
   "metadata": {
    "collapsed": false,
    "pycharm": {
     "name": "#%%\n"
    }
   }
  },
  {
   "cell_type": "code",
   "execution_count": 112,
   "outputs": [
    {
     "name": "stdout",
     "output_type": "stream",
     "text": [
      "Confunsion Matrix without early stopping\n",
      "[[ 79 160]\n",
      " [164 280]]\n",
      "Accuracy: 0.5256222547584187\n",
      "Confunsion Matrix with early stopping\n",
      "[[  1 238]\n",
      " [  2 442]]\n",
      "Accuracy: 0.6486090775988287\n"
     ]
    }
   ],
   "source": [
    "# Holds predicted values for mlp without (1) and with early stopping (2)\n",
    "predicted_1=[]\n",
    "predicted_2=[]\n",
    "\n",
    "# ------------------ QUESTION 2 ------------------------ #\n",
    "\n",
    "# TODO: falar com o professor sobre o alpha (l2 regularization)\n",
    "\n",
    "# Creates a 5 fold cross validator\n",
    "skf = StratifiedKFold(n_splits=5, shuffle=True, random_state=0)\n",
    "\n",
    "# For each train/test set, we use a MLP classifier without early stopping\n",
    "for train_index, test_index in skf.split(X, y):\n",
    "\n",
    "    # Uses indexes to fetch which values are going to be used to train and test\n",
    "    X_train, X_test = X[train_index], X[test_index]\n",
    "    y_train, y_test = y[train_index], y[test_index]\n",
    "\n",
    "    # Scaling data (assuming standard scaling)\n",
    "    #scaler = StandardScaler().fit(X_train)\n",
    "    #X_train = scaler.transform(X_train)\n",
    "    #X_test = scaler.transform(X_test)\n",
    "\n",
    "    #MLP classifier without early stopping (L2)\n",
    "    mlp = MLPClassifier(hidden_layer_sizes=(3, 2), early_stopping= False, alpha= 1, activation='relu', solver='sgd', learning_rate='constant', learning_rate_init=0.001, max_iter=2000, random_state=0)\n",
    "\n",
    "    #Trains mlp classifier\n",
    "    mlp.fit(X_train, y_train.ravel())\n",
    "\n",
    "    #Predicts new y and saves new values\n",
    "    y_predicted = mlp.predict(X_test)\n",
    "    predicted_1.append(y_predicted)\n",
    "\n",
    "# For each tindicator matrixrain/test set, we use a MLP classifier with early stopping\n",
    "for train_index, test_index in skf.split(X, y):\n",
    "\n",
    "    # Uses indexes to fetch which values are going to be used to train and test\n",
    "    X_train, X_test = X[train_index], X[test_index]\n",
    "    y_train, y_test = y[train_index], y[test_index]\n",
    "\n",
    "    # Scaling data (assuming standard scaling)\n",
    "    #scaler = StandardScaler().fit(X_train)\n",
    "    #X_train = scaler.transform(X_train)\n",
    "    #X_test = scaler.transform(X_test)\n",
    "\n",
    "    #MLP classifier without early stopping (L2)\n",
    "    mlp = MLPClassifier(hidden_layer_sizes=(3, 2), early_stopping=True, alpha= 1, activation='relu', solver='sgd', learning_rate='constant', learning_rate_init=0.001, max_iter=2000, random_state=0)\n",
    "\n",
    "    #Trains mlp classifier\n",
    "    mlp.fit(X_train, y_train.ravel())\n",
    "\n",
    "    #Predicts new y and saves new values\n",
    "    y_predicted = mlp.predict(X_test)\n",
    "    predicted_2.append(y_predicted)\n",
    "\n",
    "\n",
    "out1 = np.concatenate(predicted_1).ravel()\n",
    "out2 = np.concatenate(predicted_2).ravel()\n",
    "\n",
    "print('Confunsion Matrix without early stopping')\n",
    "print(confusion_matrix(y.ravel(), out1))\n",
    "tn, fp, fn, tp = confusion_matrix(y.ravel(), out1).ravel()\n",
    "print('Accuracy:', (tn+tp)/(tn+tp+fn+fp))\n",
    "print('Confunsion Matrix with early stopping')\n",
    "print(confusion_matrix(y.ravel(), out2))\n",
    "tn, fp, fn, tp = confusion_matrix(y.ravel(), out2).ravel()\n",
    "print('Accuracy:', (tn+tp)/(tn+tp+fn+fp))"
   ],
   "metadata": {
    "collapsed": false,
    "pycharm": {
     "name": "#%%\n"
    }
   }
  }
 ],
 "metadata": {
  "kernelspec": {
   "display_name": "Python 3",
   "language": "python",
   "name": "python3"
  },
  "language_info": {
   "codemirror_mode": {
    "name": "ipython",
    "version": 2
   },
   "file_extension": ".py",
   "mimetype": "text/x-python",
   "name": "python",
   "nbconvert_exporter": "python",
   "pygments_lexer": "ipython2",
   "version": "2.7.6"
  }
 },
 "nbformat": 4,
 "nbformat_minor": 0
}