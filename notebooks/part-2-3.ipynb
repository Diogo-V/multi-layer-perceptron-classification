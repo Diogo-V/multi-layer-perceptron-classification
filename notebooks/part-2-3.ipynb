{
 "cells": [
  {
   "cell_type": "code",
   "execution_count": 83,
   "metadata": {
    "collapsed": true
   },
   "outputs": [],
   "source": [
    "# Import definition\n",
    "from scipy.io import arff\n",
    "import pandas as pd\n",
    "from sklearn.neural_network import MLPClassifier\n",
    "from sklearn.preprocessing import LabelBinarizer\n",
    "from sklearn.model_selection import StratifiedKFold, cross_val_predict\n",
    "from sklearn.metrics import confusion_matrix\n",
    "import matplotlib.pyplot as plt\n",
    "from sklearn.metrics import ConfusionMatrixDisplay"
   ]
  },
  {
   "cell_type": "code",
   "execution_count": 84,
   "outputs": [
    {
     "name": "stdout",
     "output_type": "stream",
     "text": [
      "Confunsion Matrix without early stopping\n",
      "Accuracy:  0.9677891654465594\n",
      "Sensibility:  0.9497907949790795\n",
      "Precision:  0.9578059071729957\n",
      "F1_Score:  0.9537815126050418\n",
      "Confunsion Matrix with early stopping\n",
      "Accuracy:  0.9121522693997072\n",
      "Sensibility:  0.9790794979079498\n",
      "Precision:  0.8096885813148789\n",
      "F1_Score:  0.8863636363636364\n"
     ]
    },
    {
     "data": {
      "text/plain": "<Figure size 432x288 with 2 Axes>",
      "image/png": "[encoded data removed]"
     },
     "metadata": {
      "needs_background": "light"
     },
     "output_type": "display_data"
    },
    {
     "data": {
      "text/plain": "<Figure size 432x288 with 2 Axes>",
      "image/png": "[encoded data removed]"
     },
     "metadata": {
      "needs_background": "light"
     },
     "output_type": "display_data"
    }
   ],
   "source": [
    "# ------------------ PREPROCESSING AND DATA FILTERING -------------------- #\n",
    "\n",
    "# Loading dataset into working desk\n",
    "data = arff.loadarff('../data/breast.w.arff')\n",
    "df = pd.DataFrame(data[0])\n",
    "\n",
    "# Removes NaN values from dataset by deleting rows\n",
    "df.dropna(axis=0, how=\"any\", inplace=True)\n",
    "\n",
    "# Gets X (data matrix) and y (target values column matrix)\n",
    "X = df.drop(\"Class\", axis=1).to_numpy()\n",
    "y = df[\"Class\"].to_numpy()\n",
    "\n",
    "# Performalignantms some preprocessing by turning labels into binaries (benign is 1)\n",
    "# We are doing a \"double conversion\" to convert everything to Binary type\n",
    "for count, value in enumerate(y):\n",
    "    if value == b\"malignant\":\n",
    "        y[count] = \"yes\"\n",
    "    else:\n",
    "        y[count] = \"no\"\n",
    "\n",
    "lb = LabelBinarizer()\n",
    "y = lb.fit_transform(y)\n",
    "\n",
    "\n",
    "# ------------------ QUESTION 2 ------------------------ #\n",
    "\n",
    "# Creates a 5 fold cross validator\n",
    "skf = StratifiedKFold(n_splits=5, shuffle=True, random_state=0)\n",
    "\n",
    "##MLP classifier without early stopping (L2)\n",
    "mlp_1 = MLPClassifier(hidden_layer_sizes=(3, 2), early_stopping= False, alpha= 0.1, activation='relu', learning_rate='constant', learning_rate_init=0.001, max_iter=2000, random_state=0)\n",
    "\n",
    "# Performs a cross validate to train and get predict values\n",
    "y_predicted = cross_val_predict(mlp_1, X, y.ravel(), cv=skf).ravel()\n",
    "\n",
    "# Gets confusion matrix\n",
    "cm_1 = confusion_matrix(y, y_predicted)\n",
    "tn_1, fp_1, fn_1, tp_1 = cm_1.ravel()\n",
    "accuracy_1 = (tn_1 + tp_1)/(tn_1 + tp_1 + fp_1 + fn_1)\n",
    "sensibility_1 = (tp_1/(tp_1 + fn_1))\n",
    "precision_1 = (tp_1/(tp_1 + fp_1))\n",
    "f1_score_1 = (2/((1/sensibility_1) + (1/precision_1)))\n",
    "\n",
    "\n",
    "##MLP classifier with early stopping (L2)\n",
    "mlp_2 = MLPClassifier(hidden_layer_sizes=(3, 2), early_stopping=True, alpha= 0.1, activation='relu', learning_rate='constant', learning_rate_init=0.001, max_iter=2000, random_state=0)\n",
    "\n",
    "# Performs a cross validate to train and get predict values\n",
    "y_predicted = cross_val_predict(mlp_2, X, y.ravel(), cv=skf).ravel()\n",
    "\n",
    "# Gets confusion matrix\n",
    "cm_2 = confusion_matrix(y, y_predicted)\n",
    "tn_2, fp_2, fn_2, tp_2 = cm_2.ravel()\n",
    "accuracy_2 = (tn_2 + tp_2)/(tn_2 + tp_2 + fp_2 + fn_2)\n",
    "sensibility_2 = (tp_2/(tp_2 + fn_2))\n",
    "precision_2 = (tp_2/(tp_2 + fp_2))\n",
    "f1_score_2 = (2/((1/sensibility_2) + (1/precision_2)))\n",
    "\n",
    "\n",
    "#Display both confusion matrix\n",
    "disp1 = ConfusionMatrixDisplay(confusion_matrix=cm_1)\n",
    "print('Confunsion Matrix without early stopping')\n",
    "print('Accuracy: ', accuracy_1)\n",
    "print('Sensibility: ', sensibility_1)\n",
    "print('Precision: ', precision_1)\n",
    "print('F1_Score: ', f1_score_1)\n",
    "disp1.plot()\n",
    "\n",
    "disp2 = ConfusionMatrixDisplay(confusion_matrix=cm_2)\n",
    "print('Confunsion Matrix with early stopping')\n",
    "print('Accuracy: ', accuracy_2)\n",
    "print('Sensibility: ', sensibility_2)\n",
    "print('Precision: ', precision_2)\n",
    "print('F1_Score: ', f1_score_2)\n",
    "disp2.plot()\n",
    "\n",
    "plt.show()\n"
   ],
   "metadata": {
    "collapsed": false,
    "pycharm": {
     "name": "#%%\n"
    }
   }
  }
 ],
 "metadata": {
  "kernelspec": {
   "display_name": "Python 3",
   "language": "python",
   "name": "python3"
  },
  "language_info": {
   "codemirror_mode": {
    "name": "ipython",
    "version": 2
   },
   "file_extension": ".py",
   "mimetype": "text/x-python",
   "name": "python",
   "nbconvert_exporter": "python",
   "pygments_lexer": "ipython2",
   "version": "2.7.6"
  }
 },
 "nbformat": 4,
 "nbformat_minor": 0
}