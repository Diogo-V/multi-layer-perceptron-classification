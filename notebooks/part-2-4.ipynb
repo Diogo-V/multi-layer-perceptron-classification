{
 "cells": [
  {
   "cell_type": "code",
   "execution_count": 168,
   "metadata": {
    "collapsed": true
   },
   "outputs": [],
   "source": [
    "# Import definition\n",
    "from scipy.io import arff\n",
    "import pandas as pd\n",
    "import numpy as np\n",
    "from sklearn.neural_network import MLPRegressor\n",
    "from sklearn.model_selection import KFold\n",
    "import matplotlib.pyplot as plt\n",
    "\n",
    "THRESHOLD = 0.5"
   ]
  },
  {
   "cell_type": "code",
   "execution_count": 169,
   "outputs": [],
   "source": [
    "# ------------------ PREPROCESSING AND DATA FILTERING -------------------- #\n",
    "\n",
    "# Loading dataset into working desk\n",
    "data = arff.loadarff('../data/kin8nm.arff')\n",
    "df = pd.DataFrame(data[0])\n",
    "\n",
    "#Removes NaN values from dataset by deleting rows\n",
    "df.dropna(axis=0, how='any', inplace=True)\n",
    "\n",
    "# Gets X (data matrix) and y (target values column matrix)\n",
    "X = df.drop(\"y\", axis=1).to_numpy()\n",
    "y = df['y'].to_numpy()"
   ],
   "metadata": {
    "collapsed": false,
    "pycharm": {
     "name": "#%%\n"
    }
   }
  },
  {
   "cell_type": "code",
   "execution_count": 170,
   "outputs": [
    {
     "name": "stdout",
     "output_type": "stream",
     "text": [
      "[0.01187629 0.00544418 0.00601825 ... 0.01941403 0.01692209 0.00585452]\n"
     ]
    },
    {
     "data": {
      "text/plain": "<Figure size 432x288 with 1 Axes>",
      "image/png": "[encoded data removed]"
     },
     "metadata": {
      "needs_background": "light"
     },
     "output_type": "display_data"
    }
   ],
   "source": [
    "# Holds predicted values for mlp without (1) and with early stopping (2)\n",
    "predicted_1 = []\n",
    "predicted_2 = []\n",
    "\n",
    "# Creates a 5 fold cross validator\n",
    "skf = KFold(n_splits=5, shuffle=True, random_state=0)\n",
    "\n",
    "# For each train/test set, we use a MLP classifier without regularization\n",
    "for train_index, test_index in skf.split(X, y):\n",
    "\n",
    "    # Uses indexes to fetch which values are going to be used to train and test\n",
    "    X_train, X_test = X[train_index], X[test_index]\n",
    "    y_train, y_test = y[train_index], y[test_index]\n",
    "\n",
    "    #MLP regressor without regularization\n",
    "    mlp = MLPRegressor(hidden_layer_sizes=(3, 2), alpha= 0, activation='relu', solver='sgd', learning_rate='constant', learning_rate_init=0.001, max_iter=2000, random_state=0)\n",
    "\n",
    "    #Trains mlp regressor\n",
    "    mlp.fit(X_train, y_train.ravel())\n",
    "\n",
    "    #Predicts new y and saves new values\n",
    "    y_predicted = mlp.predict(X_test)\n",
    "    predicted_1.append(y_predicted)\n",
    "\n",
    "# For each tindicator matrixrain/test set, we use a MLP regressor with regularization\n",
    "for train_index, test_index in skf.split(X, y):\n",
    "\n",
    "    # Uses indexes to fetch which values are going to be used to train and test\n",
    "    X_train, X_test = X[train_index], X[test_index]\n",
    "    y_train, y_test = y[train_index], y[test_index]\n",
    "\n",
    "    #MLP regressor with regularization (L2) (SOMETHING WRONG IS NOT RIGHT)\n",
    "    mlp = MLPRegressor(hidden_layer_sizes=(3, 2), alpha = 3.6, activation='relu', solver='sgd', learning_rate='constant', learning_rate_init=0.001, max_iter=2000, random_state=0)\n",
    "\n",
    "    #Trains mlp regressor\n",
    "    mlp.fit(X_train, y_train.ravel())\n",
    "\n",
    "    #Predicts new y and saves new values\n",
    "    y_predicted = mlp.predict(X_test)\n",
    "    predicted_2.append(y_predicted)\n",
    "\n",
    "\n",
    "# Concatenating\n",
    "predicted_1 = np.concatenate(predicted_1).ravel()\n",
    "predicted_2 = np.concatenate(predicted_2).ravel()\n",
    "\n",
    "# Getting residues\n",
    "residues1 = np.subtract(y, predicted_1)\n",
    "residues2 = np.subtract(y, predicted_2)\n",
    "\n",
    "# Debug\n",
    "verificar = np.subtract(residues1, residues2)\n",
    "print(verificar)\n",
    "\n",
    "#Plot residues\n",
    "plt.boxplot([residues1, residues2], patch_artist = True)\n",
    "\n",
    "#Show plot\n",
    "plt.show()\n"
   ],
   "metadata": {
    "collapsed": false,
    "pycharm": {
     "name": "#%%\n"
    }
   }
  }
 ],
 "metadata": {
  "kernelspec": {
   "display_name": "Python 3",
   "language": "python",
   "name": "python3"
  },
  "language_info": {
   "codemirror_mode": {
    "name": "ipython",
    "version": 2
   },
   "file_extension": ".py",
   "mimetype": "text/x-python",
   "name": "python",
   "nbconvert_exporter": "python",
   "pygments_lexer": "ipython2",
   "version": "2.7.6"
  }
 },
 "nbformat": 4,
 "nbformat_minor": 0
}