{
 "cells": [
  {
   "cell_type": "code",
   "execution_count": 36,
   "metadata": {
    "collapsed": true
   },
   "outputs": [],
   "source": [
    "# Import definition\n",
    "from scipy.io import arff\n",
    "import pandas as pd\n",
    "import numpy as np\n",
    "from sklearn.neural_network import MLPRegressor\n",
    "from sklearn.model_selection import KFold, cross_val_predict\n",
    "import matplotlib.pyplot as plt\n",
    "\n",
    "THRESHOLD = 0.5"
   ]
  },
  {
   "cell_type": "code",
   "execution_count": 37,
   "outputs": [],
   "source": [
    "# ------------------ PREPROCESSING AND DATA FILTERING -------------------- #\n",
    "\n",
    "# Loading dataset into working desk\n",
    "data = arff.loadarff('../data/kin8nm.arff')\n",
    "df = pd.DataFrame(data[0])\n",
    "\n",
    "#Removes NaN values from dataset by deleting rows\n",
    "df.dropna(axis=0, how='any', inplace=True)\n",
    "\n",
    "# Gets X (data matrix) and y (target values column matrix)\n",
    "X = df.drop(\"y\", axis=1).to_numpy()\n",
    "y = df['y'].to_numpy()"
   ],
   "metadata": {
    "collapsed": false,
    "pycharm": {
     "name": "#%%\n"
    }
   }
  },
  {
   "cell_type": "code",
   "execution_count": 38,
   "outputs": [
    {
     "name": "stdout",
     "output_type": "stream",
     "text": [
      "[0.01245163 0.2850772  0.01106837 ... 0.02158443 0.07848334 0.22722234]\n",
      "[-0.00831015 -0.03392083 -0.02012649 ...  0.00033972 -0.10698858\n",
      " -0.00475362]\n"
     ]
    },
    {
     "data": {
      "text/plain": "<Figure size 432x288 with 1 Axes>",
      "image/png": "[encoded data removed]"
     },
     "metadata": {
      "needs_background": "light"
     },
     "output_type": "display_data"
    }
   ],
   "source": [
    "# Creates a 5 fold cross validator\n",
    "skf = KFold(n_splits=5, shuffle=True, random_state=0)\n",
    "\n",
    "#MLP regressor without regularization\n",
    "mlp_1 = MLPRegressor(hidden_layer_sizes=(3, 2), alpha= 0, activation='relu', learning_rate='constant', learning_rate_init=0.001, max_iter=2000, random_state=0)\n",
    "\n",
    "# Performs a cross validate to train and get predict values\n",
    "y_predicted = cross_val_predict(mlp_1, X, y.ravel(), cv=skf).ravel()\n",
    "\n",
    "#Calculate the residues\n",
    "residues_1 = np.absolute(np.subtract(y, y_predicted))\n",
    "\n",
    "\n",
    "#MLP regressor with regularization (L2) (SOMETHING WRONG IS NOT RIGHT)\n",
    "mlp_2 = MLPRegressor(hidden_layer_sizes=(3, 2), alpha = 0.1, activation='relu', learning_rate='constant', learning_rate_init=0.001, max_iter=2000, random_state=0)\n",
    "\n",
    "# Performs a cross validate to train and get predict values\n",
    "y_predicted = cross_val_predict(mlp_2, X, y.ravel(), cv=skf).ravel()\n",
    "\n",
    "#Calculate the residues\n",
    "residues_2 = np.absolute(np.subtract(y, y_predicted))\n",
    "\n",
    "\n",
    "# Debug\n",
    "verificar = np.subtract(residues_1, residues_2)\n",
    "print(verificar)\n",
    "\n",
    "#Plot residues\n",
    "plt.boxplot([residues_1, residues_2], patch_artist = True, labels = ['Without Regularization', 'With Regularization'])\n",
    "\n",
    "#Show plot\n",
    "plt.show()\n"
   ],
   "metadata": {
    "collapsed": false,
    "pycharm": {
     "name": "#%%\n"
    }
   }
  },
  {
   "cell_type": "code",
   "execution_count": 39,
   "outputs": [
    {
     "name": "stdout",
     "output_type": "stream",
     "text": [
      "Mean Absolute Error 0.12130354668201487\n",
      "Root Mean Error 0.15536299351740723\n",
      "Mean Absolute Error 0.13074994520350539\n",
      "Root Mean Error 0.1690991523624634\n"
     ]
    }
   ],
   "source": [
    "print('Mean Absolute Error', sum(residues_1)/len(residues_1.tolist()))\n",
    "print('Root Mean Error', np.power(sum(np.power(residues_1, 2))/len(residues_1.tolist()), 0.5))\n",
    "print('Mean Absolute Error', sum(residues_2)/len(residues_2.tolist()))\n",
    "print('Root Mean Error', np.power(sum(np.power(residues_2, 2))/len(residues_2.tolist()), 0.5))"
   ],
   "metadata": {
    "collapsed": false,
    "pycharm": {
     "name": "#%%\n"
    }
   }
  }
 ],
 "metadata": {
  "kernelspec": {
   "display_name": "Python 3",
   "language": "python",
   "name": "python3"
  },
  "language_info": {
   "codemirror_mode": {
    "name": "ipython",
    "version": 2
   },
   "file_extension": ".py",
   "mimetype": "text/x-python",
   "name": "python",
   "nbconvert_exporter": "python",
   "pygments_lexer": "ipython2",
   "version": "2.7.6"
  }
 },
 "nbformat": 4,
 "nbformat_minor": 0
}